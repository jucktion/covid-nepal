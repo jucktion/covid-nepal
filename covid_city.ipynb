{
 "cells": [
  {
   "cell_type": "code",
   "execution_count": 53,
   "id": "00f35f63",
   "metadata": {},
   "outputs": [
    {
     "name": "stdout",
     "output_type": "stream",
     "text": [
      "2022-01-26\n",
      "2022-01-25\n"
     ]
    }
   ],
   "source": [
    "import pandas as pd\n",
    "from urllib.request import Request, urlopen\n",
    "from datetime import datetime, timedelta\n",
    "import numpy as np\n",
    "import matplotlib.pyplot as plt\n",
    "import re\n",
    "# path = \"D:\\projects\\covid\\\\\"\n",
    "# file = 'data.json'\n",
    "# df = pd.read_json(path+file)\n",
    "today = datetime.now()\n",
    "yesterday = today - timedelta(hours=24)\n",
    "today = today.strftime('%Y-%m-%d')\n",
    "yesterday = yesterday.strftime('%Y-%m-%d')\n",
    "print(today)\n",
    "print(yesterday)\n",
    "\n",
    "# def addNotFound(df):\n",
    "#     empty = {'Age':['0 - 10','11 - 20','21 - 30','31 - 40','41 - 50','51 - 60','61 - 70','71 - 80','80+','N/A'],'Value':[0 for _ in range(10)]}\n",
    "#     emptydf= pd.DataFrame(empty, columns=['Age','Value'])\n",
    "#     new_df = df\n",
    "#     try:\n",
    "#         for index,i in enumerate(emptydf.to_dict(orient=\"list\")['Age']):\n",
    "#                 if str(emptydf.to_dict(orient=\"list\")['Age'][index]) not in df.to_dict(orient=\"list\")['Age']:\n",
    "#                     print(emptydf.to_dict(orient=\"list\")['Age'][index],emptydf.to_dict(orient=\"list\")['Value'][index])\n",
    "#                     new_df = new_df.append({'Age':str(emptydf.to_dict(orient=\"list\")['Age'][index]),'Value':emptydf.to_dict(orient=\"list\")['Value'][index]},ignore_index=True,sort=True)\n",
    "#         return new_df.sort_values(by='Age')\n",
    "#     except:\n",
    "#         return df\n",
    "    \n",
    "\n",
    "def total(data):\n",
    "    total = 0\n",
    "    for i in range(len(data)):\n",
    "        total = total + data[i]\n",
    "    return total"
   ]
  },
  {
   "cell_type": "code",
   "execution_count": 55,
   "id": "433e4d10",
   "metadata": {},
   "outputs": [
    {
     "name": "stdout",
     "output_type": "stream",
     "text": [
      "https://portal.edcd.gov.np/rest/api/fetch?filter=casesBetween&type=dayByDay&sDate=2022-01-25&eDate=2022-01-26&disease=COVID-19\n"
     ]
    }
   ],
   "source": [
    "url = f'https://portal.edcd.gov.np/rest/api/fetch?filter=casesBetween&type=dayByDay&sDate={yesterday}&eDate={today}&disease=COVID-19'\n",
    "print(url)\n",
    "req = Request(url)\n",
    "req.add_header('Origin', 'https://covid19.mohp.gov.np')\n",
    "req.add_header('User-Agent', 'Mozilla/5.0 (Windows NT 10.0; Win64; x64) AppleWebKit/537.36 (KHTML, like Gecko) Chrome/96.0.4664.137 Safari/537.36')\n",
    "req.add_header('Referer', 'https://covid19.mohp.gov.np')\n",
    "req.add_header('Cache-Control', 'no-cache')\n",
    "req.add_header('Host', 'portal.edcd.gov.np')\n",
    "\n",
    "with urlopen(req) as rq:\n",
    "    data = rq.read().decode('utf-8')\n",
    "\n",
    "#print(data)\n",
    "data = data.replace('null','\"N/A\"')"
   ]
  },
  {
   "cell_type": "code",
   "execution_count": 56,
   "id": "5bfe096c",
   "metadata": {},
   "outputs": [],
   "source": [
    "#print(data)"
   ]
  },
  {
   "cell_type": "code",
   "execution_count": 34,
   "id": "dc7295ba",
   "metadata": {},
   "outputs": [
    {
     "name": "stdout",
     "output_type": "stream",
     "text": [
      "        Province              District     Sex      Age      Period  Value\n",
      "0        Bagmati         306 KATHMANDU  Female      80+  2022-01-26     20\n",
      "1     Province 2           203 DHANUSA    Male  21 - 30  2022-01-26      9\n",
      "2        Gandaki  408 NAWALPARASI EAST  Female  11 - 20  2022-01-25      1\n",
      "3        Bagmati          308 LALITPUR  Female      80+  2022-01-26      1\n",
      "4     Province 1           113 SUNSARI    Male  61 - 70  2022-01-25      5\n",
      "...          ...                   ...     ...      ...         ...    ...\n",
      "1222     Bagmati           304 DHADING  Female  41 - 50  2022-01-25      2\n",
      "1223  Province 2         204 MAHOTTARI    Male  51 - 60  2022-01-25      1\n",
      "1224     Gandaki            404 MYAGDI    Male  41 - 50  2022-01-25      1\n",
      "1225     Lumbini             504 GULMI  Female  31 - 40  2022-01-25      1\n",
      "1226     Bagmati         306 KATHMANDU  Female  51 - 60  2022-01-26     94\n",
      "\n",
      "[1227 rows x 6 columns]\n"
     ]
    }
   ],
   "source": [
    "df = pd.read_json(data,orient='records')\n",
    "print(df)"
   ]
  },
  {
   "cell_type": "code",
   "execution_count": 35,
   "id": "fe3ea799",
   "metadata": {},
   "outputs": [
    {
     "name": "stdout",
     "output_type": "stream",
     "text": [
      "        Province              District     Sex      Age      Period  Value\n",
      "2        Gandaki  408 NAWALPARASI EAST  Female  11 - 20  2022-01-25      1\n",
      "4     Province 1           113 SUNSARI    Male  61 - 70  2022-01-25      5\n",
      "5        Bagmati          313 CHITAWAN  Female  11 - 20  2022-01-25      2\n",
      "6     Province 1           113 SUNSARI    Male      N/A  2022-01-25      3\n",
      "9     Province 2            202 SIRAHA  Female  31 - 40  2022-01-25      2\n",
      "...          ...                   ...     ...      ...         ...    ...\n",
      "1220     Lumbini             504 GULMI    Male  21 - 30  2022-01-25      3\n",
      "1222     Bagmati           304 DHADING  Female  41 - 50  2022-01-25      2\n",
      "1223  Province 2         204 MAHOTTARI    Male  51 - 60  2022-01-25      1\n",
      "1224     Gandaki            404 MYAGDI    Male  41 - 50  2022-01-25      1\n",
      "1225     Lumbini             504 GULMI  Female  31 - 40  2022-01-25      1\n",
      "\n",
      "[615 rows x 6 columns]\n"
     ]
    }
   ],
   "source": [
    "df1 = df[df['Period'].str.contains(yesterday, na=False)]\n",
    "overallcases = df1['Value'].sum()\n",
    "print(df1)"
   ]
  },
  {
   "cell_type": "code",
   "execution_count": 43,
   "id": "70005c9f",
   "metadata": {},
   "outputs": [],
   "source": [
    "district = 'KATHMANDU'"
   ]
  },
  {
   "cell_type": "code",
   "execution_count": 44,
   "id": "c3d5dc02",
   "metadata": {
    "scrolled": true
   },
   "outputs": [
    {
     "name": "stdout",
     "output_type": "stream",
     "text": [
      "   Province            District     Sex      Age      Period  Value\n",
      "0   Bagmati  309 KAVREPALANCHOK  Female   0 - 10  2022-01-25      1\n",
      "1   Bagmati  309 KAVREPALANCHOK    Male   0 - 10  2022-01-25      2\n",
      "2   Bagmati  309 KAVREPALANCHOK    Male  11 - 20  2022-01-25      6\n",
      "3   Bagmati  309 KAVREPALANCHOK  Female  11 - 20  2022-01-25      1\n",
      "4   Bagmati  309 KAVREPALANCHOK  Female  21 - 30  2022-01-25     51\n",
      "5   Bagmati  309 KAVREPALANCHOK    Male  21 - 30  2022-01-25     41\n",
      "6   Bagmati  309 KAVREPALANCHOK    Male  31 - 40  2022-01-25     33\n",
      "7   Bagmati  309 KAVREPALANCHOK  Female  31 - 40  2022-01-25     29\n",
      "8   Bagmati  309 KAVREPALANCHOK    Male  41 - 50  2022-01-25     21\n",
      "9   Bagmati  309 KAVREPALANCHOK  Female  41 - 50  2022-01-25      9\n",
      "10  Bagmati  309 KAVREPALANCHOK    Male  51 - 60  2022-01-25      7\n",
      "11  Bagmati  309 KAVREPALANCHOK  Female  51 - 60  2022-01-25      6\n",
      "12  Bagmati  309 KAVREPALANCHOK    Male  61 - 70  2022-01-25      2\n",
      "13  Bagmati  309 KAVREPALANCHOK    Male      80+  2022-01-25      1\n",
      "14  Bagmati  309 KAVREPALANCHOK    Male      N/A  2022-01-25      2\n"
     ]
    }
   ],
   "source": [
    "ddata = df1[df1['District'].str.contains(district, na=False)].sort_values(by='Age')\n",
    "# ddata['Sex'].replace('Male','Other',regex=True)\n",
    "# ddata['Age'] = ddata['Age'].apply(lambda x: 'other' x is None)\n",
    "totalcases = ddata['Value'].sum()\n",
    "print(ddata.reset_index(drop=True))"
   ]
  },
  {
   "cell_type": "code",
   "execution_count": 45,
   "id": "a70f3dfd",
   "metadata": {},
   "outputs": [
    {
     "name": "stdout",
     "output_type": "stream",
     "text": [
      "       Sex      Age  Value\n",
      "0   Female   0 - 10      1\n",
      "1   Female  11 - 20      1\n",
      "2   Female  21 - 30     51\n",
      "3   Female  31 - 40     29\n",
      "4   Female  41 - 50      9\n",
      "5   Female  51 - 60      6\n",
      "6     Male   0 - 10      2\n",
      "7     Male  11 - 20      6\n",
      "8     Male  21 - 30     41\n",
      "9     Male  31 - 40     33\n",
      "10    Male  41 - 50     21\n",
      "11    Male  51 - 60      7\n",
      "12    Male  61 - 70      2\n",
      "13    Male      80+      1\n",
      "14    Male      N/A      2\n"
     ]
    }
   ],
   "source": [
    "plotr = ddata[['Sex','Age','Value']].groupby(['Sex','Age'],as_index=False).agg('sum')\n",
    "print(plotr)"
   ]
  },
  {
   "cell_type": "code",
   "execution_count": 46,
   "id": "d3fcbdc5",
   "metadata": {},
   "outputs": [
    {
     "data": {
      "text/plain": [
       "<AxesSubplot:xlabel='Age'>"
      ]
     },
     "execution_count": 65,
     "metadata": {},
     "output_type": "execute_result"
    },
    {
     "data": {
      "image/png": "[encoded data removed]",
      "text/plain": [
       "<Figure size 720x360 with 1 Axes>"
      ]
     },
     "metadata": {
      "needs_background": "light"
     },
     "output_type": "display_data"
    }
   ],
   "source": [
    "plotr.set_index('Age')['Value'].plot(kind='bar',figsize=(10,5))"
   ]
  },
  {
   "cell_type": "code",
   "execution_count": 125,
   "id": "35ff9988",
   "metadata": {},
   "outputs": [],
   "source": [
    "def addNotFound(df):\n",
    "    empty = {'Age':['0 - 10','11 - 20','21 - 30','31 - 40','41 - 50','51 - 60','61 - 70','71 - 80','80+','N/A'],'Value':[0 for _ in range(10)]}\n",
    "    emptydf= pd.DataFrame(empty, columns=['Age','Value'])\n",
    "    new_df = df\n",
    "    try:\n",
    "        #new_df = pd.concat([emptydf([i],columns=['Age','Value']) for i in emptydf.to_dict(orient=\"list\")['Age']],ignore_index=True)\n",
    "        new_df = pd.concat([emptydf,df],ignore_index=True, axis = 0)\n",
    "        return new_df.groupby(['Age'],as_index=False).agg('sum').sort_values(by='Age')\n",
    "    except Exception as e:\n",
    "        print(e)\n",
    "        #return df\n",
    "\n",
    "plotr_men = addNotFound(plotr[plotr['Sex'].str.contains('Male', na=False)].sort_values(by='Age')[['Age','Value']])\n",
    "plotr_women = addNotFound(plotr[plotr['Sex'].str.contains('Female', na=False)].sort_values(by='Age')[['Age','Value']])"
   ]
  },
  {
   "cell_type": "code",
   "execution_count": 126,
   "id": "c2d4b9a1",
   "metadata": {},
   "outputs": [
    {
     "name": "stdout",
     "output_type": "stream",
     "text": [
      "       Age  Value\n",
      "0   0 - 10      1\n",
      "1  11 - 20      1\n",
      "2  21 - 30     51\n",
      "3  31 - 40     29\n",
      "4  41 - 50      9\n",
      "5  51 - 60      6\n",
      "6  61 - 70      0\n",
      "7  71 - 80      0\n",
      "8      80+      0\n",
      "9      N/A      0\n"
     ]
    }
   ],
   "source": [
    "print(plotr_women.reset_index(drop=True))"
   ]
  },
  {
   "cell_type": "code",
   "execution_count": 127,
   "id": "c7f1fcc1",
   "metadata": {},
   "outputs": [
    {
     "data": {
      "image/png": "[encoded data removed]",
      "text/plain": [
       "<Figure size 432x288 with 1 Axes>"
      ]
     },
     "metadata": {
      "needs_background": "light"
     },
     "output_type": "display_data"
    },
    {
     "name": "stdout",
     "output_type": "stream",
     "text": [
      "KAVREPALANCHOK - 2022-01-25\n",
      "\n"
     ]
    }
   ],
   "source": [
    "#https://www.w3resource.com/graphics/matplotlib/barchart/matplotlib-barchart-exercise-10.php\n",
    "groups = len(plotr_men['Age'])\n",
    "men = [x for x in plotr_men['Value']]\n",
    "women = [x for x in plotr_women['Value']]\n",
    "age = [str(x).replace(' ','') for x in plotr_women['Age']]\n",
    "\n",
    "fig, ax = plt.subplots()\n",
    "index = np.arange(groups)\n",
    "bar_width = 0.35\n",
    "opacity = 1\n",
    "\n",
    "rects1 = plt.bar(index, \n",
    "                 men, \n",
    "                 bar_width,\n",
    "                 alpha=opacity,\n",
    "                 color='green',\n",
    "                 label=f'Men ({total(men)})')\n",
    "\n",
    "rects1 = plt.bar(index + bar_width, \n",
    "                 women, \n",
    "                 bar_width,\n",
    "                 alpha=opacity,\n",
    "                 color='pink',\n",
    "                 label=f'Women ({total(women)})')\n",
    "\n",
    "plt.xlabel('Age')\n",
    "plt.ylabel('Cases')\n",
    "plt.title(f'{yesterday} - {district} - Cases: {totalcases} - National: {overallcases}')\n",
    "plt.xticks(index + bar_width/2, age)\n",
    "plt.legend()\n",
    "plt.tight_layout()\n",
    "plt.show()\n",
    "print(f'{district} - {yesterday}')\n",
    "\n",
    "print()"
   ]
  },
  {
   "cell_type": "code",
   "execution_count": null,
   "id": "345a0fa6",
   "metadata": {},
   "outputs": [],
   "source": [
    "#plotr_women.append({'Age':'80+','Value':0},ignore_index=True,sort=True)"
   ]
  },
  {
   "cell_type": "code",
   "execution_count": 14,
   "id": "a2f89887",
   "metadata": {},
   "outputs": [],
   "source": [
    "# for index,i in enumerate(emptydf.to_dict(orient=\"list\")['Age']):\n",
    "#     print(emptydf.to_dict(orient=\"list\")['Age'][index])"
   ]
  },
  {
   "cell_type": "code",
   "execution_count": 15,
   "id": "459924a2",
   "metadata": {},
   "outputs": [],
   "source": [
    "#emptydf.to_dict(orient=\"list\")"
   ]
  },
  {
   "cell_type": "code",
   "execution_count": null,
   "id": "fd86d722",
   "metadata": {},
   "outputs": [],
   "source": []
  },
  {
   "cell_type": "code",
   "execution_count": 16,
   "id": "e0cb1404",
   "metadata": {},
   "outputs": [],
   "source": [
    "#totalcases = ddata['Value'].sum()"
   ]
  },
  {
   "cell_type": "code",
   "execution_count": 17,
   "id": "2afe460f",
   "metadata": {},
   "outputs": [],
   "source": [
    "#totalcases"
   ]
  }
 ],
 "metadata": {
  "kernelspec": {
   "display_name": "Python 3 (ipykernel)",
   "language": "python",
   "name": "python3"
  },
  "language_info": {
   "codemirror_mode": {
    "name": "ipython",
    "version": 3
   },
   "file_extension": ".py",
   "mimetype": "text/x-python",
   "name": "python",
   "nbconvert_exporter": "python",
   "pygments_lexer": "ipython3",
   "version": "3.10.2"
  }
 },
 "nbformat": 4,
 "nbformat_minor": 5
}
